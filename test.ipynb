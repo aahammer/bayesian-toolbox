{
 "cells": [
  {
   "cell_type": "code",
   "execution_count": 40,
   "id": "dab4d024",
   "metadata": {},
   "outputs": [],
   "source": [
    "import product_analytics.variant_evaluation as ve\n",
    "from product_analytics.variant_evaluation import (\n",
    "    VariantEvidence,\n",
    "    display_variant_results\n",
    ")"
   ]
  },
  {
   "cell_type": "code",
   "execution_count": null,
   "id": "bad7ea47",
   "metadata": {},
   "outputs": [],
   "source": [
    "results = ve.evaluate_product_variants(\n",
    "    \n",
    "    [\n",
    "        VariantEvidence(name=\"A\", observations=1000, conversions=100),\n",
    "        VariantEvidence(name=\"B\", observations=1000, conversions=120),\n",
    "    ],\n",
    "    reference_index=0\n",
    ")\n",
    "\n",
    "git config --global user.name \"Andreas Adlichhammer\"\n",
    "git config --global user.email \"support@aahammer.eu\"\n"
   ]
  },
  {
   "cell_type": "code",
   "execution_count": 48,
   "id": "b3d3b9fe",
   "metadata": {},
   "outputs": [
    {
     "name": "stdout",
     "output_type": "stream",
     "text": [
      "| name   | ref   | p_better   | uplift   |   regret | p_in_rope   |   mean |   CI_low |   CI_up |\n",
      "|--------|-------|------------|----------|----------|-------------|--------|----------|---------|\n",
      "| A      | True  | 0.00%      | 0.00%    |   0      | 100.00%     | 0.1007 |   0.0856 |  0.1168 |\n",
      "| B      | False | 92.49%     | 20.91%   |   0.0005 | 11.47%      | 0.1208 |   0.1043 |  0.1382 |\n"
     ]
    }
   ],
   "source": [
    "display_variant_results(results)"
   ]
  },
  {
   "cell_type": "code",
   "execution_count": 45,
   "id": "d3a02b44",
   "metadata": {},
   "outputs": [],
   "source": [
    "results = ve.evaluate_product_variants(  [\n",
    "    VariantEvidence(name=\"A\", observations=800, conversions=88),\n",
    "    VariantEvidence(name=\"B\", observations=1000, conversions=110),\n",
    "    VariantEvidence(name=\"C\", observations=950, conversions=130),\n",
    "])"
   ]
  },
  {
   "cell_type": "code",
   "execution_count": 46,
   "id": "840ef11e",
   "metadata": {},
   "outputs": [
    {
     "name": "stdout",
     "output_type": "stream",
     "text": [
      "| name   | ref   | p_better   | uplift   |   regret | p_in_rope   |   mean |   CI_low |   CI_up |\n",
      "|--------|-------|------------|----------|----------|-------------|--------|----------|---------|\n",
      "| A      | False | 4.59%      | -18.84%  |   0.027  | 7.89%       | 0.111  |   0.0933 |  0.1298 |\n",
      "| B      | False | 3.60%      | -19.00%  |   0.0271 | 7.04%       | 0.1108 |   0.0949 |  0.1275 |\n",
      "| C      | True  | 0.00%      | 0.00%    |   0      | 100.00%     | 0.1376 |   0.1197 |  0.1564 |\n"
     ]
    }
   ],
   "source": [
    "display_variant_results(results)"
   ]
  }
 ],
 "metadata": {
  "kernelspec": {
   "display_name": "product_analytics",
   "language": "python",
   "name": "python3"
  },
  "language_info": {
   "codemirror_mode": {
    "name": "ipython",
    "version": 3
   },
   "file_extension": ".py",
   "mimetype": "text/x-python",
   "name": "python",
   "nbconvert_exporter": "python",
   "pygments_lexer": "ipython3",
   "version": "3.12.9"
  }
 },
 "nbformat": 4,
 "nbformat_minor": 5
}
