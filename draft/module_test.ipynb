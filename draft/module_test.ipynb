{
 "cells": [
  {
   "cell_type": "code",
   "execution_count": 1,
   "id": "68b5cf30",
   "metadata": {},
   "outputs": [],
   "source": [
    "from bayesian_toolbox import a_b_test"
   ]
  },
  {
   "cell_type": "code",
   "execution_count": 2,
   "id": "eae3cbad",
   "metadata": {},
   "outputs": [
    {
     "name": "stdout",
     "output_type": "stream",
     "text": [
      "hello  motherfucker\n"
     ]
    }
   ],
   "source": [
    "a_b_test.hello(' motherfucker')"
   ]
  }
 ],
 "metadata": {
  "kernelspec": {
   "display_name": "bayesian-toolbox",
   "language": "python",
   "name": "python3"
  },
  "language_info": {
   "codemirror_mode": {
    "name": "ipython",
    "version": 3
   },
   "file_extension": ".py",
   "mimetype": "text/x-python",
   "name": "python",
   "nbconvert_exporter": "python",
   "pygments_lexer": "ipython3",
   "version": "3.12.9"
  }
 },
 "nbformat": 4,
 "nbformat_minor": 5
}
